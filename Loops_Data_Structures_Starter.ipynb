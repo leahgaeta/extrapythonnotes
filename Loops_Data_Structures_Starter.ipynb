{
 "cells": [
  {
   "cell_type": "markdown",
   "metadata": {},
   "source": [
    "## Python Loops\n",
    "    Because we want to do things many times\n",
    "    \n",
    "Two types main types of loops (there are others, but lets ignore them). Lets start with For loop."
   ]
  },
  {
   "cell_type": "markdown",
   "metadata": {
    "collapsed": true
   },
   "source": [
    "#### For Loop"
   ]
  },
  {
   "cell_type": "markdown",
   "metadata": {},
   "source": [
    "basic for loop using range:"
   ]
  },
  {
   "cell_type": "code",
   "execution_count": 5,
   "metadata": {},
   "outputs": [
    {
     "name": "stdout",
     "output_type": "stream",
     "text": [
      "i is:0\n",
      "0\n",
      "i is:1\n",
      "1\n",
      "i is:2\n",
      "2\n",
      "i is:3\n",
      "3\n",
      "i is:4\n",
      "4\n",
      "i is:5\n",
      "5\n",
      "i is:6\n",
      "6\n",
      "i is:7\n",
      "7\n",
      "i is:8\n",
      "8\n",
      "i is:9\n",
      "9\n"
     ]
    }
   ],
   "source": [
    "for i in range(10):\n",
    "    print(\"i is:\" + str(i))\n",
    "    print i"
   ]
  },
  {
   "cell_type": "code",
   "execution_count": 4,
   "metadata": {},
   "outputs": [
    {
     "name": "stdout",
     "output_type": "stream",
     "text": [
      "55\n"
     ]
    },
    {
     "data": {
      "text/plain": [
       "str"
      ]
     },
     "execution_count": 4,
     "metadata": {},
     "output_type": "execute_result"
    }
   ],
   "source": [
    "print(str(5)+str(5))\n",
    "type(str(5)+str(5))"
   ]
  },
  {
   "cell_type": "markdown",
   "metadata": {},
   "source": [
    "basic for loop through a string:"
   ]
  },
  {
   "cell_type": "code",
   "execution_count": 9,
   "metadata": {},
   "outputs": [],
   "source": [
    "my_favorite_string = \"The Lakers\""
   ]
  },
  {
   "cell_type": "code",
   "execution_count": 10,
   "metadata": {},
   "outputs": [
    {
     "name": "stdout",
     "output_type": "stream",
     "text": [
      "T\n",
      "h\n",
      "e\n",
      " \n",
      "L\n",
      "a\n",
      "k\n",
      "e\n",
      "r\n",
      "s\n"
     ]
    }
   ],
   "source": [
    "for letter in my_favorite_string:\n",
    "    print(letter)"
   ]
  },
  {
   "cell_type": "markdown",
   "metadata": {},
   "source": [
    "basic loop iterating an integer:"
   ]
  },
  {
   "cell_type": "code",
   "execution_count": 13,
   "metadata": {},
   "outputs": [
    {
     "name": "stdout",
     "output_type": "stream",
     "text": [
      "0\n",
      "1\n",
      "3\n",
      "6\n",
      "10\n",
      "15\n",
      "21\n",
      "28\n",
      "36\n",
      "45\n"
     ]
    }
   ],
   "source": [
    "x = 0\n",
    "for i in range(0,10):\n",
    "    x+=i\n",
    "    print(x)"
   ]
  },
  {
   "cell_type": "markdown",
   "metadata": {},
   "source": [
    "printing labels to  odd and even numbers (see if we can do this together):"
   ]
  },
  {
   "cell_type": "code",
   "execution_count": 19,
   "metadata": {},
   "outputs": [],
   "source": [
    "for i in range(0,10):\n",
    "    pass\n",
    "    #if i%2:\n",
    "    #    if i >=5:\n",
    "    #        print(str(i)+\" is odd\")\n",
    "    #    else:\n",
    "    #        pass\n",
    "    #else:\n",
    "    #    pass\n",
    "    #for j in range(0,5):\n",
    "    #    print(i,j)"
   ]
  },
  {
   "cell_type": "markdown",
   "metadata": {},
   "source": [
    "Lets print see if we can print something cool using a loop:"
   ]
  },
  {
   "cell_type": "code",
   "execution_count": 20,
   "metadata": {},
   "outputs": [
    {
     "name": "stdout",
     "output_type": "stream",
     "text": [
      "\n",
      "*\n",
      "**\n",
      "***\n",
      "****\n",
      "*****\n",
      "******\n",
      "*******\n",
      "********\n",
      "*********\n",
      "**********\n",
      "***********\n",
      "************\n",
      "*************\n",
      "**************\n",
      "***************\n",
      "****************\n",
      "*****************\n",
      "******************\n",
      "*******************\n"
     ]
    }
   ],
   "source": [
    "for i in range(0,20):\n",
    "    print('*'*i)"
   ]
  },
  {
   "cell_type": "markdown",
   "metadata": {
    "collapsed": true
   },
   "source": [
    "#### while loop"
   ]
  },
  {
   "cell_type": "markdown",
   "metadata": {},
   "source": [
    "Basic while loop:"
   ]
  },
  {
   "cell_type": "code",
   "execution_count": 21,
   "metadata": {},
   "outputs": [
    {
     "name": "stdout",
     "output_type": "stream",
     "text": [
      "5\n",
      "4\n",
      "3\n"
     ]
    }
   ],
   "source": [
    "x=5\n",
    "while x>2:\n",
    "    print(x)\n",
    "    x=x-1"
   ]
  },
  {
   "cell_type": "markdown",
   "metadata": {},
   "source": [
    "Infinte Loop:"
   ]
  },
  {
   "cell_type": "markdown",
   "metadata": {},
   "source": [
    "## Data Structures\n",
    "    because if don't build it, they will not come"
   ]
  },
  {
   "cell_type": "markdown",
   "metadata": {},
   "source": [
    "#### Tuple"
   ]
  },
  {
   "cell_type": "markdown",
   "metadata": {},
   "source": [
    "Build a tuple:"
   ]
  },
  {
   "cell_type": "code",
   "execution_count": 23,
   "metadata": {},
   "outputs": [
    {
     "name": "stdout",
     "output_type": "stream",
     "text": [
      "(0, 1.0, 'float')\n",
      "<type 'tuple'>\n"
     ]
    }
   ],
   "source": [
    "my_tuple=(0,1.0,\"float\")\n",
    "print(my_tuple)\n",
    "print(type(my_tuple))"
   ]
  },
  {
   "cell_type": "markdown",
   "metadata": {},
   "source": [
    "Print tuple type:"
   ]
  },
  {
   "cell_type": "code",
   "execution_count": 24,
   "metadata": {},
   "outputs": [
    {
     "data": {
      "text/plain": [
       "'float'"
      ]
     },
     "execution_count": 24,
     "metadata": {},
     "output_type": "execute_result"
    }
   ],
   "source": [
    "my_tuple[2]"
   ]
  },
  {
   "cell_type": "markdown",
   "metadata": {},
   "source": [
    "Index a tuple:"
   ]
  },
  {
   "cell_type": "code",
   "execution_count": 25,
   "metadata": {},
   "outputs": [
    {
     "data": {
      "text/plain": [
       "'float'"
      ]
     },
     "execution_count": 25,
     "metadata": {},
     "output_type": "execute_result"
    }
   ],
   "source": [
    "my_tuple[2]"
   ]
  },
  {
   "cell_type": "markdown",
   "metadata": {},
   "source": [
    "Try and change the index of a tuple:"
   ]
  },
  {
   "cell_type": "code",
   "execution_count": 30,
   "metadata": {},
   "outputs": [
    {
     "name": "stdout",
     "output_type": "stream",
     "text": [
      "f\n",
      "((0, 1.0, 'float'), (0, 1.0, 'float'))\n"
     ]
    }
   ],
   "source": [
    "#my_string=\"hello world\"\n",
    "#my_string[1] = \"cool\"\n",
    "#print(my_string)\n",
    "#this will produce error\n",
    "\n",
    "#tuples and strings are secure and cannot change\n",
    "\n",
    "my_tuple2=(my_tuple,my_tuple)\n",
    "print(my_tuple2[1][2][0])\n",
    "#level 1 = a tuple\n",
    "#level 2 = a data type in the tuple\n",
    "#level 3 = character in the string which was in the level 2 tuple\n",
    "print(my_tuple2)"
   ]
  },
  {
   "cell_type": "markdown",
   "metadata": {},
   "source": [
    "Concat a tuple:"
   ]
  },
  {
   "cell_type": "code",
   "execution_count": 32,
   "metadata": {},
   "outputs": [
    {
     "data": {
      "text/plain": [
       "'float'"
      ]
     },
     "execution_count": 32,
     "metadata": {},
     "output_type": "execute_result"
    }
   ],
   "source": [
    "my_tuple+my_tuple\n",
    "x=my_tuple+my_tuple\n",
    "x[5]"
   ]
  },
  {
   "cell_type": "markdown",
   "metadata": {},
   "source": [
    "Tuple multiplication with integer:"
   ]
  },
  {
   "cell_type": "code",
   "execution_count": 36,
   "metadata": {},
   "outputs": [
    {
     "data": {
      "text/plain": [
       "(0,\n",
       " 1.0,\n",
       " 'float',\n",
       " 0,\n",
       " 1.0,\n",
       " 'float',\n",
       " 0,\n",
       " 1.0,\n",
       " 'float',\n",
       " 0,\n",
       " 1.0,\n",
       " 'float',\n",
       " 0,\n",
       " 1.0,\n",
       " 'float')"
      ]
     },
     "execution_count": 36,
     "metadata": {},
     "output_type": "execute_result"
    }
   ],
   "source": [
    "my_tuple*5\n",
    "#has to be an integer, can't be a float"
   ]
  },
  {
   "cell_type": "code",
   "execution_count": null,
   "metadata": {},
   "outputs": [],
   "source": []
  },
  {
   "cell_type": "markdown",
   "metadata": {},
   "source": [
    "#### Lists"
   ]
  },
  {
   "cell_type": "markdown",
   "metadata": {},
   "source": [
    "Build a list:"
   ]
  },
  {
   "cell_type": "code",
   "execution_count": 37,
   "metadata": {},
   "outputs": [
    {
     "name": "stdout",
     "output_type": "stream",
     "text": [
      "[5, 5, 5, 5, 5, 5, 5, 5, 5]\n"
     ]
    }
   ],
   "source": [
    "x = [5,5,5,5,5,5,5,5,5]\n",
    "print x"
   ]
  },
  {
   "cell_type": "markdown",
   "metadata": {},
   "source": [
    "print list type:"
   ]
  },
  {
   "cell_type": "code",
   "execution_count": 38,
   "metadata": {},
   "outputs": [
    {
     "data": {
      "text/plain": [
       "list"
      ]
     },
     "execution_count": 38,
     "metadata": {},
     "output_type": "execute_result"
    }
   ],
   "source": [
    "type(x)"
   ]
  },
  {
   "cell_type": "markdown",
   "metadata": {},
   "source": [
    "index a list:"
   ]
  },
  {
   "cell_type": "code",
   "execution_count": 39,
   "metadata": {},
   "outputs": [
    {
     "data": {
      "text/plain": [
       "5"
      ]
     },
     "execution_count": 39,
     "metadata": {},
     "output_type": "execute_result"
    }
   ],
   "source": [
    "x[5]"
   ]
  },
  {
   "cell_type": "markdown",
   "metadata": {},
   "source": [
    "Try and change indexs in the list:"
   ]
  },
  {
   "cell_type": "code",
   "execution_count": 41,
   "metadata": {},
   "outputs": [
    {
     "name": "stdout",
     "output_type": "stream",
     "text": [
      "[5, 5, 5, 5, 5, \"this is willy nilly, isn't this nice\", 5, 5, 5]\n"
     ]
    }
   ],
   "source": [
    "x[5]=\"this is willy nilly, isn't this nice\"\n",
    "print(x)\n",
    "#can change lists"
   ]
  },
  {
   "cell_type": "markdown",
   "metadata": {},
   "source": [
    "concat a list:"
   ]
  },
  {
   "cell_type": "code",
   "execution_count": 42,
   "metadata": {},
   "outputs": [
    {
     "data": {
      "text/plain": [
       "[5,\n",
       " 5,\n",
       " 5,\n",
       " 5,\n",
       " 5,\n",
       " \"this is willy nilly, isn't this nice\",\n",
       " 5,\n",
       " 5,\n",
       " 5,\n",
       " 5,\n",
       " 5,\n",
       " 5,\n",
       " 5,\n",
       " 5,\n",
       " \"this is willy nilly, isn't this nice\",\n",
       " 5,\n",
       " 5,\n",
       " 5]"
      ]
     },
     "execution_count": 42,
     "metadata": {},
     "output_type": "execute_result"
    }
   ],
   "source": [
    "x+x"
   ]
  },
  {
   "cell_type": "markdown",
   "metadata": {},
   "source": [
    "append a list:"
   ]
  },
  {
   "cell_type": "code",
   "execution_count": 45,
   "metadata": {},
   "outputs": [
    {
     "name": "stdout",
     "output_type": "stream",
     "text": [
      "[5, 5, 5, 5, 5, \"this is willy nilly, isn't this nice\", 5, 5, 5, 25, 25, 25]\n"
     ]
    }
   ],
   "source": [
    "x.append(25)\n",
    "print(x)"
   ]
  },
  {
   "cell_type": "markdown",
   "metadata": {},
   "source": [
    "pop a list:"
   ]
  },
  {
   "cell_type": "code",
   "execution_count": 48,
   "metadata": {},
   "outputs": [
    {
     "name": "stdout",
     "output_type": "stream",
     "text": [
      "[5, 5, 5, 5, 5, 25, 25, 25]\n",
      "25\n"
     ]
    }
   ],
   "source": [
    "x.pop(5)\n",
    "print(x)\n",
    "#pop takes out data, last in first out, but can also specificy which item to take out\n",
    "poped_data=x.pop(5)\n",
    "print(poped_data)"
   ]
  },
  {
   "cell_type": "markdown",
   "metadata": {},
   "source": [
    "sort a list:"
   ]
  },
  {
   "cell_type": "code",
   "execution_count": 54,
   "metadata": {},
   "outputs": [
    {
     "name": "stdout",
     "output_type": "stream",
     "text": [
      "[1, 7, 8, 25, 25, 32]\n",
      "['t', 's', 'r', 'q', 'l', 'g', 'f', 'a']\n"
     ]
    }
   ],
   "source": [
    "new_list=[25,25,32,1,7,8]\n",
    "new_list.sort()\n",
    "print new_list\n",
    "letter_list=['a','f','g','q','r','t','l','s']\n",
    "letter_list.sort(reverse=True)\n",
    "print(letter_list)"
   ]
  },
  {
   "cell_type": "markdown",
   "metadata": {},
   "source": [
    "count in a list:"
   ]
  },
  {
   "cell_type": "code",
   "execution_count": 55,
   "metadata": {},
   "outputs": [
    {
     "data": {
      "text/plain": [
       "2"
      ]
     },
     "execution_count": 55,
     "metadata": {},
     "output_type": "execute_result"
    }
   ],
   "source": [
    "new_list.count(25)\n",
    "#counts how many times 25 appears in the list"
   ]
  },
  {
   "cell_type": "markdown",
   "metadata": {},
   "source": [
    "sum on a list:"
   ]
  },
  {
   "cell_type": "code",
   "execution_count": 56,
   "metadata": {},
   "outputs": [
    {
     "data": {
      "text/plain": [
       "98"
      ]
     },
     "execution_count": 56,
     "metadata": {},
     "output_type": "execute_result"
    }
   ],
   "source": [
    "sum(new_list)\n",
    "#sum can't work with strings"
   ]
  },
  {
   "cell_type": "markdown",
   "metadata": {},
   "source": [
    "Iterating through a list (using loops):"
   ]
  },
  {
   "cell_type": "code",
   "execution_count": 57,
   "metadata": {},
   "outputs": [
    {
     "name": "stdout",
     "output_type": "stream",
     "text": [
      "1\n",
      "7\n",
      "8\n",
      "25\n",
      "25\n",
      "32\n"
     ]
    }
   ],
   "source": [
    "for data in new_list:\n",
    "    print(data)"
   ]
  },
  {
   "cell_type": "markdown",
   "metadata": {},
   "source": [
    "build a list using list comprehensions:"
   ]
  },
  {
   "cell_type": "code",
   "execution_count": 58,
   "metadata": {},
   "outputs": [
    {
     "name": "stdout",
     "output_type": "stream",
     "text": [
      "[0, 1, 2, 3, 4, 5, 6, 7, 8, 9]\n"
     ]
    }
   ],
   "source": [
    "x=[i for i in range(0,10)]\n",
    "print(x)"
   ]
  },
  {
   "cell_type": "markdown",
   "metadata": {},
   "source": [
    "Taking action based on value in list through loops and conditionals:"
   ]
  },
  {
   "cell_type": "code",
   "execution_count": 59,
   "metadata": {},
   "outputs": [
    {
     "name": "stdout",
     "output_type": "stream",
     "text": [
      "[1, 3, 5, 7, 9]\n",
      "[0, 2, 4, 6, 8]\n"
     ]
    }
   ],
   "source": [
    "odd=[]\n",
    "even=[]\n",
    "for integer in x:\n",
    "    if integer%2:\n",
    "        odd.append(integer)\n",
    "    else:\n",
    "        even.append(integer)\n",
    "print(odd)\n",
    "print(even)"
   ]
  },
  {
   "cell_type": "code",
   "execution_count": null,
   "metadata": {},
   "outputs": [],
   "source": []
  },
  {
   "cell_type": "markdown",
   "metadata": {},
   "source": [
    "## Independent Task\n",
    "\n",
    "Explore the built in functions of lists:\n",
    "\n",
    "Use this list:\n",
    "ravenclaws = ['Cho', 'Luna', 'Marcus', 'Anthony', 'Padma', 'Terry', 'Duncan', 'Latisha']\n",
    "\n",
    "    use .append(item) to add item to a list\n",
    "    use .extend([item1, item2]) to join another list to the end of the list\n",
    "    use .insert(index, item) to add an item to a list at an index\n",
    "    use .remove(item) to remove an item from a list\n",
    "    use .sort() to sort a list\n",
    "    use .count(item) to count the number of times an item appears in a list\n",
    "    use .index(item) to find the index of an element in a list\n",
    "    use .pop() to extract (and remove) the last element of a list\n",
    "    use .reverse() to reverse a list"
   ]
  },
  {
   "cell_type": "markdown",
   "metadata": {},
   "source": [
    "#### Dictionaries"
   ]
  },
  {
   "cell_type": "markdown",
   "metadata": {},
   "source": [
    "Build a dictionary with ints:"
   ]
  },
  {
   "cell_type": "code",
   "execution_count": 79,
   "metadata": {},
   "outputs": [
    {
     "name": "stdout",
     "output_type": "stream",
     "text": [
      "['Cho', 'Luna', 'Marcus', 'Anthony', 'Padma', 'Terry', 'Duncan', 'Latisha', 'Luna']\n"
     ]
    }
   ],
   "source": [
    "ravenclaws = ['Cho', 'Luna', 'Marcus', 'Anthony', 'Padma', 'Terry', 'Duncan', 'Latisha']\n",
    "ravenclaws.append('Luna')\n",
    "print(ravenclaws)"
   ]
  },
  {
   "cell_type": "code",
   "execution_count": 85,
   "metadata": {},
   "outputs": [
    {
     "name": "stdout",
     "output_type": "stream",
     "text": [
      "['Luna', 'Latisha', 'Duncan', 'Terry', 'Anthony', 'Marcus', 'Luna', 'Cho']\n"
     ]
    }
   ],
   "source": [
    "ravenclaws.reverse()\n",
    "print(ravenclaws)"
   ]
  },
  {
   "cell_type": "code",
   "execution_count": 86,
   "metadata": {},
   "outputs": [
    {
     "data": {
      "text/plain": [
       "2"
      ]
     },
     "execution_count": 86,
     "metadata": {},
     "output_type": "execute_result"
    }
   ],
   "source": [
    "ravenclaws.count('Luna')"
   ]
  },
  {
   "cell_type": "code",
   "execution_count": 94,
   "metadata": {},
   "outputs": [
    {
     "name": "stdout",
     "output_type": "stream",
     "text": [
      "scotttarlow@gmail.com\n",
      "scott.tarlow@gneralassemb.ly\n",
      "[1, 2, 3, 4, 5, 6, 7, 8, 9, 10]\n"
     ]
    }
   ],
   "source": [
    "my_dictionary={'scott':'scotttarlow@gmail.com',\n",
    "              'scott_ga':'scott.tarlow@gneralassemb.ly',\n",
    "              'numbers':[1,2,3,4,5,6,7,8,9,10]}\n",
    "print(my_dictionary['scott'])\n",
    "print(my_dictionary['scott_ga'])\n",
    "print(my_dictionary['numbers'])"
   ]
  },
  {
   "cell_type": "markdown",
   "metadata": {},
   "source": [
    "Build a dictionary with tuples:"
   ]
  },
  {
   "cell_type": "code",
   "execution_count": 95,
   "metadata": {},
   "outputs": [
    {
     "name": "stdout",
     "output_type": "stream",
     "text": [
      "{'scott_ga': 'scott.tarlow@gneralassemb.ly', 'scott': 'scotttarlow@gmail.com', 'numbers': [1, 2, 3, 4, 5, 6, 7, 8, 9, 10], 'tuple': (0, 0)}\n"
     ]
    }
   ],
   "source": [
    "my_dictionary['tuple']=(0,0)\n",
    "print(my_dictionary)"
   ]
  },
  {
   "cell_type": "markdown",
   "metadata": {},
   "source": [
    "build a dictionary with lists:"
   ]
  },
  {
   "cell_type": "code",
   "execution_count": 96,
   "metadata": {},
   "outputs": [
    {
     "name": "stdout",
     "output_type": "stream",
     "text": [
      "{'ken': 65, 'scott': 27, 'jackie': 31}\n"
     ]
    }
   ],
   "source": [
    "names=['scott','jackie','ken']\n",
    "ages = [27,31,65]\n",
    "age_dictionary={}\n",
    "for name,age in zip(names,ages):\n",
    "    age_dictionary[name]=age\n",
    "print age_dictionary\n",
    "#zip makes list of tupules so first item in list goes with first item in another list"
   ]
  },
  {
   "cell_type": "markdown",
   "metadata": {},
   "source": [
    "get the keys of a dictionary:"
   ]
  },
  {
   "cell_type": "code",
   "execution_count": 98,
   "metadata": {},
   "outputs": [
    {
     "name": "stdout",
     "output_type": "stream",
     "text": [
      "['ken', 'scott', 'jackie']\n",
      "[65, 27, 31]\n"
     ]
    }
   ],
   "source": [
    "print(age_dictionary.keys())\n",
    "print(age_dictionary.values())\n",
    "    #dictionary doesn't take into account order"
   ]
  },
  {
   "cell_type": "markdown",
   "metadata": {},
   "source": [
    "Add a key value pair to a dictionary:"
   ]
  },
  {
   "cell_type": "code",
   "execution_count": 100,
   "metadata": {},
   "outputs": [
    {
     "name": "stdout",
     "output_type": "stream",
     "text": [
      "{'scott_ga': 'scott.tarlow@gneralassemb.ly', 'scott': 'scotttarlow@gmail.com', 'numbers': [1, 2, 3, 4, 5, 6, 7, 8, 9, 10], 'tuple': (0, 0)}\n"
     ]
    }
   ],
   "source": [
    "my_dictionary['tuple']=(0,0)\n",
    "print(my_dictionary)"
   ]
  },
  {
   "cell_type": "markdown",
   "metadata": {},
   "source": [
    "Looping through two lists to form one dictionary with key and value pairs:"
   ]
  },
  {
   "cell_type": "code",
   "execution_count": 101,
   "metadata": {},
   "outputs": [
    {
     "name": "stdout",
     "output_type": "stream",
     "text": [
      "{'ken': 65, 'scott': 27, 'jackie': 31}\n"
     ]
    }
   ],
   "source": [
    "names=['scott','jackie','ken']\n",
    "ages = [27,31,65]\n",
    "age_dictionary={}\n",
    "for name,age in zip(names,ages):\n",
    "    age_dictionary[name]=age\n",
    "print age_dictionary"
   ]
  },
  {
   "cell_type": "markdown",
   "metadata": {
    "collapsed": true
   },
   "source": [
    "### Independent Task\n",
    "\n",
    "Build your a dictionary of student information representing species, gender, and graduation year:\n",
    "\n",
    "    'Ginny Weasley' : ('Human', 0, 1999)\n",
    "    'Hermione Granger' : ('Human', 0, 1999)\n",
    "    'Sirius Black' : ('Human', 1, 1978)\n",
    "    'Bellatrix Lestrange' : ('Human', 0, 1969)\n",
    "    'Ron Weasley' : ('Human', 1, None)\n",
    "    'Rubeus Hagrid' : ('Half-Giant', 1, None)\n",
    "    'Albus Dumbledore' : ('Human', 1, 1858)\n",
    "    'Tom Riddle' : ('Human', 1, 1945)\n",
    "\n",
    "Explore some of the built in functions for dictionaries:\n",
    "\n",
    "    use .pop(key) to remove a key:value pair from the dictionary and return the value\n",
    "    use .get(key) to get the value for a key\n",
    "    use .has_key(key) to check if a key is in the dictionary\n",
    "    use .keys() to get a list of the keys in the dictionary\n",
    "    use .items() to get a list of the key:value pairs in the dictionary\n",
    "    use .update(other_dictionary) to merge a 2nd dictionary into the current dictionary\n",
    "    use .clear() to remove all key:value pairs from the dictionary\n"
   ]
  },
  {
   "cell_type": "code",
   "execution_count": 104,
   "metadata": {},
   "outputs": [
    {
     "data": {
      "text/plain": [
       "['Rubeus Hagrid',\n",
       " 'Hermione Granger',\n",
       " 'Sirius Black',\n",
       " 'Ginny Weasley',\n",
       " 'Albus Dumbledore',\n",
       " 'Bellatrix Lestrange',\n",
       " 'Tom Riddle',\n",
       " 'Ron Weasley']"
      ]
     },
     "execution_count": 104,
     "metadata": {},
     "output_type": "execute_result"
    }
   ],
   "source": [
    "Hogwarts = {'Ginny Weasley' : ('Human', 0, 1999),\n",
    "'Hermione Granger' : ('Human', 0, 1999),\n",
    "'Sirius Black' : ('Human', 1, 1978),\n",
    "'Bellatrix Lestrange' : ('Human', 0, 1969),\n",
    "'Ron Weasley' : ('Human', 1, None),\n",
    "'Rubeus Hagrid' : ('Half-Giant', 1, None),\n",
    "'Albus Dumbledore' : ('Human', 1, 1858),\n",
    "'Tom Riddle' : ('Human', 1, 1945)}\n",
    "\n",
    "Hogwarts.keys()"
   ]
  },
  {
   "cell_type": "code",
   "execution_count": 105,
   "metadata": {},
   "outputs": [
    {
     "name": "stdout",
     "output_type": "stream",
     "text": [
      "{'Rubeus Hagrid': ('Half-Giant', 1, None), 'Hermione Granger': ('Human', 0, 1999), 'Sirius Black': ('Human', 1, 1978), 'Ginny Weasley': ('Human', 0, 1999), 'Albus Dumbledore': ('Human', 1, 1858), 'Bellatrix Lestrange': ('Human', 0, 1969), 'Ron Weasley': ('Human', 1, None)}\n"
     ]
    }
   ],
   "source": [
    "Hogwarts.pop('Tom Riddle')\n",
    "print(Hogwarts)"
   ]
  },
  {
   "cell_type": "code",
   "execution_count": 106,
   "metadata": {},
   "outputs": [
    {
     "data": {
      "text/plain": [
       "True"
      ]
     },
     "execution_count": 106,
     "metadata": {},
     "output_type": "execute_result"
    }
   ],
   "source": [
    "Hogwarts.has_key('Ron Weasley')"
   ]
  },
  {
   "cell_type": "code",
   "execution_count": 107,
   "metadata": {},
   "outputs": [
    {
     "data": {
      "text/plain": [
       "[('Rubeus Hagrid', ('Half-Giant', 1, None)),\n",
       " ('Hermione Granger', ('Human', 0, 1999)),\n",
       " ('Sirius Black', ('Human', 1, 1978)),\n",
       " ('Ginny Weasley', ('Human', 0, 1999)),\n",
       " ('Albus Dumbledore', ('Human', 1, 1858)),\n",
       " ('Bellatrix Lestrange', ('Human', 0, 1969)),\n",
       " ('Ron Weasley', ('Human', 1, None))]"
      ]
     },
     "execution_count": 107,
     "metadata": {},
     "output_type": "execute_result"
    }
   ],
   "source": [
    "Hogwarts.items()"
   ]
  },
  {
   "cell_type": "code",
   "execution_count": null,
   "metadata": {
    "collapsed": true
   },
   "outputs": [],
   "source": []
  }
 ],
 "metadata": {
  "kernelspec": {
   "display_name": "Python 2",
   "language": "python",
   "name": "python2"
  },
  "language_info": {
   "codemirror_mode": {
    "name": "ipython",
    "version": 2
   },
   "file_extension": ".py",
   "mimetype": "text/x-python",
   "name": "python",
   "nbconvert_exporter": "python",
   "pygments_lexer": "ipython2",
   "version": "2.7.13"
  }
 },
 "nbformat": 4,
 "nbformat_minor": 2
}
