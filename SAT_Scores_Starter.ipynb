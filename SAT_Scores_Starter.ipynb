{
 "cells": [
  {
   "cell_type": "markdown",
   "metadata": {},
   "source": [
    "# SAT Score fun with Python and Pandas\n",
    "yes... its our favorite test"
   ]
  },
  {
   "cell_type": "code",
   "execution_count": 1,
   "metadata": {},
   "outputs": [],
   "source": [
    "#first lets import pandas\n",
    "import pandas as pd\n",
    "%matplotlib inline \n",
    "#the line above does magic to allow us to view plots in the jupyter notebook real time..."
   ]
  },
  {
   "cell_type": "markdown",
   "metadata": {},
   "source": [
    "Notice I use the alias \"as\". Using a function from a python module is has this notation: module.module_function() \n",
    "Because I  imported the module as an alias, instead of doing pandas.pandas_function() I can do pd.pandas_function. Look as I load the SAT file below:"
   ]
  },
  {
   "cell_type": "code",
   "execution_count": null,
   "metadata": {},
   "outputs": [],
   "source": [
    "SAT_Scores = pd.read_csv('sat_scores.csv')  # the input for the function is a string, which has the file path. Because \n",
    "                                            # sat_scores.csv is in the same file as my ipython notebook, we just need\n",
    "    \n",
    "SAT_Scores.head(10) #lets us view the first 5 rows "
   ]
  },
  {
   "cell_type": "markdown",
   "metadata": {},
   "source": [
    "Notice how awesome pandas is. With 1 function we loaded the csv into a pandas DATA STRUCTURE, a DATA FRAME. Data frames make analyzing data in python easy. They have special attributes. For example, lets say I want to display 1 column:"
   ]
  },
  {
   "cell_type": "code",
   "execution_count": null,
   "metadata": {},
   "outputs": [],
   "source": [
    "SAT_Scores['State'].head()"
   ]
  },
  {
   "cell_type": "markdown",
   "metadata": {},
   "source": [
    "How would I Display the other columns?"
   ]
  },
  {
   "cell_type": "code",
   "execution_count": null,
   "metadata": {},
   "outputs": [],
   "source": [
    "SAT_Scores['Math'].head()"
   ]
  },
  {
   "cell_type": "code",
   "execution_count": null,
   "metadata": {},
   "outputs": [],
   "source": [
    "SAT_Scores[\"Verbal\"].head()"
   ]
  },
  {
   "cell_type": "code",
   "execution_count": null,
   "metadata": {},
   "outputs": [],
   "source": [
    "SAT_Scores[\"Rate\"].head()"
   ]
  },
  {
   "cell_type": "markdown",
   "metadata": {},
   "source": [
    "I can also make a new column, say the difference between math and verbal socore, instantly like this:"
   ]
  },
  {
   "cell_type": "code",
   "execution_count": null,
   "metadata": {},
   "outputs": [],
   "source": [
    "SAT_Scores['Math-Verbal'] = SAT_Scores['Math'] - SAT_Scores['Verbal']\n",
    "SAT_Scores.head()"
   ]
  },
  {
   "cell_type": "code",
   "execution_count": null,
   "metadata": {
    "collapsed": true
   },
   "outputs": [],
   "source": []
  },
  {
   "cell_type": "markdown",
   "metadata": {},
   "source": [
    "Another Cool thing about Pandas is we can quickly do functions like mean, median, mode, max, min and standard devation, look as I find the average math score:"
   ]
  },
  {
   "cell_type": "code",
   "execution_count": null,
   "metadata": {},
   "outputs": [],
   "source": [
    "SAT_Scores['Math'].mean()"
   ]
  },
  {
   "cell_type": "markdown",
   "metadata": {},
   "source": [
    "See if you can figure out all the other functions (median, mode, max, min, and standard devation). If you can't figure it out on your own... see if a neighbor or someone on the internet has already figured it out ? "
   ]
  },
  {
   "cell_type": "code",
   "execution_count": null,
   "metadata": {},
   "outputs": [],
   "source": [
    "SAT_Scores['Math'].median()"
   ]
  },
  {
   "cell_type": "code",
   "execution_count": null,
   "metadata": {},
   "outputs": [],
   "source": [
    "SAT_Scores['Math'].mode()"
   ]
  },
  {
   "cell_type": "code",
   "execution_count": null,
   "metadata": {},
   "outputs": [],
   "source": [
    "SAT_Scores.max()"
   ]
  },
  {
   "cell_type": "code",
   "execution_count": null,
   "metadata": {},
   "outputs": [],
   "source": [
    "SAT_Scores.min()"
   ]
  },
  {
   "cell_type": "code",
   "execution_count": null,
   "metadata": {},
   "outputs": [],
   "source": [
    "SAT_Scores['Math'].std()"
   ]
  },
  {
   "cell_type": "markdown",
   "metadata": {},
   "source": [
    "What if I wanted to know which state had the highest math score? Remember how we used booleans in conditional statements? \n",
    "\n",
    "Well we can actaully store those those booleans in a variable and then use the dataframe method .loc[] to locate the value we want! See below:"
   ]
  },
  {
   "cell_type": "code",
   "execution_count": null,
   "metadata": {
    "collapsed": true
   },
   "outputs": [],
   "source": [
    "math_max_mask = SAT_Scores['Math'] == SAT_Scores['Math'].max()"
   ]
  },
  {
   "cell_type": "code",
   "execution_count": null,
   "metadata": {},
   "outputs": [],
   "source": [
    "#Here is what the mask looks like in python\n",
    "math_max_mask.head()"
   ]
  },
  {
   "cell_type": "code",
   "execution_count": null,
   "metadata": {},
   "outputs": [],
   "source": [
    "SAT_Scores.loc[math_max_mask]"
   ]
  },
  {
   "cell_type": "markdown",
   "metadata": {},
   "source": [
    "Lets see if we can find the states with the max and min in all of our columns! "
   ]
  },
  {
   "cell_type": "code",
   "execution_count": null,
   "metadata": {},
   "outputs": [],
   "source": [
    "math_min_mask = SAT_Scores['Math'] == SAT_Scores['Math'].min()\n",
    "SAT_Scores.loc[math_min_mask]"
   ]
  },
  {
   "cell_type": "code",
   "execution_count": null,
   "metadata": {},
   "outputs": [],
   "source": [
    "len(SAT_Scores)"
   ]
  },
  {
   "cell_type": "code",
   "execution_count": null,
   "metadata": {
    "collapsed": true
   },
   "outputs": [],
   "source": []
  },
  {
   "cell_type": "code",
   "execution_count": null,
   "metadata": {
    "collapsed": true
   },
   "outputs": [],
   "source": []
  },
  {
   "cell_type": "code",
   "execution_count": null,
   "metadata": {
    "collapsed": true
   },
   "outputs": [],
   "source": []
  },
  {
   "cell_type": "code",
   "execution_count": null,
   "metadata": {
    "collapsed": true
   },
   "outputs": [],
   "source": []
  },
  {
   "cell_type": "markdown",
   "metadata": {},
   "source": [
    "What if we want to find all the states with a higher or lower than average math score?"
   ]
  },
  {
   "cell_type": "code",
   "execution_count": null,
   "metadata": {},
   "outputs": [],
   "source": [
    "print \"Higher than Average:\", SAT_Scores['State'].loc[SAT_Scores['Math'] > SAT_Scores['Math'].mean()]"
   ]
  },
  {
   "cell_type": "code",
   "execution_count": null,
   "metadata": {},
   "outputs": [],
   "source": [
    "print \"Lower than Average:\", SAT_Scores['State'].loc[SAT_Scores['Math'] < SAT_Scores['Math'].mean()]"
   ]
  },
  {
   "cell_type": "markdown",
   "metadata": {},
   "source": [
    "We can even use multiple masks to bound the search. When I do this, I like to store them in a variable like this:"
   ]
  },
  {
   "cell_type": "code",
   "execution_count": null,
   "metadata": {},
   "outputs": [],
   "source": [
    "Math_Upper_Bound = (SAT_Scores['Math'] > 550) #the parenthesis are there because you need them for when you use the .loc\n",
    "                                       # command and you are using multiple boolean masks\n",
    "Math_Lower_Bound = (SAT_Scores['Math'] < 600)\n",
    "\n",
    "SAT_Scores['State'].loc[Math_Upper_Bound & Math_Lower_Bound] == SAT_Scores['State'].loc[Math_Lower_Bound & Math_Upper_Bound] "
   ]
  },
  {
   "cell_type": "markdown",
   "metadata": {},
   "source": [
    "Does it matter what order I put the boolean masks in the .loc ? Why or why not? "
   ]
  },
  {
   "cell_type": "code",
   "execution_count": null,
   "metadata": {},
   "outputs": [],
   "source": [
    "SAT_Scores.plot(x='Rate',y='Math',kind = 'scatter',figsize = (10,10))"
   ]
  },
  {
   "cell_type": "code",
   "execution_count": null,
   "metadata": {},
   "outputs": [],
   "source": [
    "SAT_Scores.plot(x='Rate',y='Verbal',kind = 'scatter',figsize = (10,10))"
   ]
  },
  {
   "cell_type": "code",
   "execution_count": null,
   "metadata": {},
   "outputs": [],
   "source": [
    "SAT_Scores.plot(x='Math',y='Verbal',kind = 'scatter',figsize = (10,10))"
   ]
  },
  {
   "cell_type": "markdown",
   "metadata": {},
   "source": [
    "Can we figure out what that outlier is ? Use Pandas to try and find that State."
   ]
  },
  {
   "cell_type": "code",
   "execution_count": null,
   "metadata": {
    "collapsed": true
   },
   "outputs": [],
   "source": []
  },
  {
   "cell_type": "code",
   "execution_count": null,
   "metadata": {
    "collapsed": true
   },
   "outputs": [],
   "source": []
  },
  {
   "cell_type": "markdown",
   "metadata": {},
   "source": [
    "#### Linear Regression and Matplotlib\n",
    "\n",
    "http://www.stat.yale.edu/Courses/1997-98/101/linreg.htm\n",
    "\n",
    "Linear regression has been around forever, many people call it a trend plot. Lets break down the two terms:\n",
    "\n",
    "Linear - A line ! https://www.mathsisfun.com/definitions/line.html\n",
    "\n",
    "Regression - Predicting a continous thing. Like 1,2,3,4,5,6 ect. You don't  use regression if you want to predict if something's color, or category.\n",
    "\n",
    "We use linear regression to take historical data so that we can predict future outcomes. Linear regression is the most widely used machine learning algorithim. I use it even on some of the most complicated tasks! "
   ]
  },
  {
   "cell_type": "code",
   "execution_count": null,
   "metadata": {
    "collapsed": true
   },
   "outputs": [],
   "source": [
    "from sklearn.linear_model import LinearRegression #this imports linear regression"
   ]
  },
  {
   "cell_type": "code",
   "execution_count": null,
   "metadata": {},
   "outputs": [],
   "source": [
    "line = LinearRegression() #this builds the linear regression object\n",
    "line.fit(SAT_Scores['Math'].values.reshape(-1,1),SAT_Scores['Verbal']) #this fits the linear regression\n",
    "                                                                       #object. Pretty easy right?"
   ]
  },
  {
   "cell_type": "code",
   "execution_count": null,
   "metadata": {},
   "outputs": [],
   "source": [
    "predictions = line.predict(SAT_Scores['Math'].values.reshape(-1,1)) \n",
    "#this takes your x (math scores) and makes theoretical \"y\" (verbal scores)"
   ]
  },
  {
   "cell_type": "code",
   "execution_count": null,
   "metadata": {
    "collapsed": true
   },
   "outputs": [],
   "source": [
    "import matplotlib.pyplot aslt # pthis is a module to let you plot"
   ]
  },
  {
   "cell_type": "code",
   "execution_count": null,
   "metadata": {},
   "outputs": [],
   "source": [
    "plt.figure(figsize=(10,10))\n",
    "plt.plot(SAT_Scores['Math'],predictions) # here I plot the line! \n",
    "plt.xlabel('math scores')\n",
    "plt.ylabel('verbal scores')"
   ]
  },
  {
   "cell_type": "code",
   "execution_count": null,
   "metadata": {},
   "outputs": [],
   "source": [
    "#line plot ontop of the collected SAT score data\n",
    "plt.figure(figsize=(10,10))\n",
    "plt.plot(SAT_Scores['Math'],predictions)\n",
    "plt.plot(SAT_Scores['Math'],SAT_Scores['Verbal'],'.') # this makes it so the collected data are points instead of a\n",
    "                                                      # line plot \n",
    "plt.xlabel('math scores')\n",
    "plt.ylabel('verbal scores')"
   ]
  },
  {
   "cell_type": "markdown",
   "metadata": {},
   "source": [
    "Below is a R^2 score. The R^2 squared score is a measure of how accurate our model is. A R^2 equal to zero means our model is not predictive at all, or in the case of linear regression, a line does not predict the model well.  A score of 1 means the model is perfect!"
   ]
  },
  {
   "cell_type": "code",
   "execution_count": null,
   "metadata": {},
   "outputs": [],
   "source": [
    "line.score(SAT_Scores['Verbal'].values.reshape(-1,1),predictions)"
   ]
  },
  {
   "cell_type": "markdown",
   "metadata": {},
   "source": [
    "~0.8 is a pretty good. What is causing the .2 error though? Remember our pesky outlier ? Lets see what happens when we take out that point and build the regression line."
   ]
  },
  {
   "cell_type": "code",
   "execution_count": null,
   "metadata": {},
   "outputs": [],
   "source": [
    "SAT_Scores = SAT_Scores.loc[SAT_Scores['Math'] != SAT_Scores['Math'].min()] # this takes out our outlier,\n",
    "                                                                            # since our outlier had the smallest math\n",
    "                                                                            # score."
   ]
  },
  {
   "cell_type": "code",
   "execution_count": null,
   "metadata": {},
   "outputs": [],
   "source": [
    "line = LinearRegression()\n",
    "line.fit(SAT_Scores['Math'].values.reshape(-1,1),SAT_Scores['Verbal'])\n",
    "predictions2 = line.predict(SAT_Scores['Math'].values.reshape(-1,1))\n",
    "# refitting the line, getting new predictions"
   ]
  },
  {
   "cell_type": "code",
   "execution_count": null,
   "metadata": {},
   "outputs": [],
   "source": [
    "line.score(SAT_Scores['Verbal'].values.reshape(-1,1),predictions2)"
   ]
  },
  {
   "cell_type": "markdown",
   "metadata": {},
   "source": [
    "Look at that.. we take out the outlier and we gain a ton of accuracy. There are methods we can use to justify the removal of outliers, but those are left for your stats class! Lets plot the new data/line"
   ]
  },
  {
   "cell_type": "code",
   "execution_count": null,
   "metadata": {},
   "outputs": [],
   "source": [
    "plt.figure(figsize=(10,10))\n",
    "plt.plot(SAT_Scores['Math'],predictions2)\n",
    "plt.plot(SAT_Scores['Math'],SAT_Scores['Verbal'],'.')\n",
    "plt.xlabel('math scores')\n",
    "plt.ylabel('verbal scores')"
   ]
  },
  {
   "cell_type": "markdown",
   "metadata": {},
   "source": [
    "# Wrap Up on data analysis\n",
    "Lets write down all the methods, libararies and things we did in this notebook, just for fun. THen lets see if we can now talk about this SAT data set, what did we learn about test scores? What are some theorys that you can come up with that led to the results ? "
   ]
  },
  {
   "cell_type": "code",
   "execution_count": null,
   "metadata": {},
   "outputs": [],
   "source": [
    "SAT_Scores.loc[SAT_Scores['State'] == 'OH']"
   ]
  },
  {
   "cell_type": "code",
   "execution_count": null,
   "metadata": {
    "collapsed": true
   },
   "outputs": [],
   "source": []
  }
 ],
 "metadata": {
  "kernelspec": {
   "display_name": "Python 2",
   "language": "python",
   "name": "python2"
  },
  "language_info": {
   "codemirror_mode": {
    "name": "ipython",
    "version": 2
   },
   "file_extension": ".py",
   "mimetype": "text/x-python",
   "name": "python",
   "nbconvert_exporter": "python",
   "pygments_lexer": "ipython2",
   "version": "2.7.13"
  }
 },
 "nbformat": 4,
 "nbformat_minor": 2
}
