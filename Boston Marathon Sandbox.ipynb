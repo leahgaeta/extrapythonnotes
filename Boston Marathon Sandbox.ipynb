{
 "cells": [
  {
   "cell_type": "code",
   "execution_count": 1,
   "metadata": {
    "collapsed": true
   },
   "outputs": [],
   "source": [
    "from __future__ import division\n",
    "import pandas as pd\n",
    "import numpy as np\n",
    "import matplotlib.pyplot as plt\n",
    "import pylab as pl\n",
    "import seaborn as sns\n",
    "import os\n",
    "%matplotlib inline"
   ]
  },
  {
   "cell_type": "code",
   "execution_count": 2,
   "metadata": {},
   "outputs": [
    {
     "name": "stdout",
     "output_type": "stream",
     "text": [
      "/Users/leahgaeta/Desktop/finishers-boston-marathon-2015-2016-2017\n"
     ]
    }
   ],
   "source": [
    "print os.getcwd()"
   ]
  },
  {
   "cell_type": "code",
   "execution_count": 4,
   "metadata": {},
   "outputs": [
    {
     "name": "stdout",
     "output_type": "stream",
     "text": [
      "   Unnamed: 0 Bib                   Name  Age M/F         City State Country  \\\n",
      "0           0   3         Desisa, Lelisa   25   M         Ambo   NaN     ETH   \n",
      "1           1   4  Tsegay, Yemane Adhane   30   M  Addis Ababa   NaN     ETH   \n",
      "2           2   8         Chebet, Wilson   29   M     Marakwet   NaN     KEN   \n",
      "3           3  11       Kipyego, Bernard   28   M      Eldoret   NaN     KEN   \n",
      "4           4  10          Korir, Wesley   32   M       Kitale   NaN     KEN   \n",
      "\n",
      "  Citizen Unnamed: 9   ...         25K      30K      35K      40K     Pace  \\\n",
      "0     NaN        NaN   ...     1:16:07  1:32:00  1:47:59  2:02:39  0:04:56   \n",
      "1     NaN        NaN   ...     1:16:07  1:31:59  1:47:59  2:02:42  0:04:58   \n",
      "2     NaN        NaN   ...     1:16:07  1:32:00  1:47:59  2:03:01  0:04:59   \n",
      "3     NaN        NaN   ...     1:16:07  1:32:00  1:48:03  2:03:47  0:05:00   \n",
      "4     NaN        NaN   ...     1:16:07  1:32:00  1:47:59  2:03:27  0:05:00   \n",
      "\n",
      "  Proj Time Official Time Overall Gender Division  \n",
      "0         -       2:09:17       1      1        1  \n",
      "1         -       2:09:48       2      2        2  \n",
      "2         -       2:10:22       3      3        3  \n",
      "3         -       2:10:47       4      4        4  \n",
      "4         -       2:10:49       5      5        5  \n",
      "\n",
      "[5 rows x 25 columns]\n"
     ]
    }
   ],
   "source": [
    "df_mara2015 = pd.read_csv(\"marathon_results_2015.csv\")\n",
    "print df_mara2015.head()"
   ]
  },
  {
   "cell_type": "code",
   "execution_count": 5,
   "metadata": {},
   "outputs": [
    {
     "name": "stdout",
     "output_type": "stream",
     "text": [
      "  Bib                   Name  Age M/F         City State Country Citizen  \\\n",
      "0   5    Hayle, Lemi Berhanu   21   M  Addis Ababa   NaN     ETH     NaN   \n",
      "1   1         Desisa, Lelisa   26   M         Ambo   NaN     ETH     NaN   \n",
      "2   6  Tsegay, Yemane Adhane   31   M  Addis Ababa   NaN     ETH     NaN   \n",
      "3  11          Korir, Wesley   33   M       Kitale   NaN     KEN     NaN   \n",
      "4  14       Lonyangata, Paul   23   M      Eldoret   NaN     KEN     NaN   \n",
      "\n",
      "  Unnamed: 8       5K   ...         25K      30K      35K      40K     Pace  \\\n",
      "0        NaN  0:15:47   ...     1:19:15  1:34:17  1:50:24  2:05:59  0:05:04   \n",
      "1        NaN  0:15:47   ...     1:19:15  1:34:17  1:50:24  2:05:59  0:05:06   \n",
      "2        NaN  0:15:46   ...     1:19:15  1:34:45  1:50:48  2:06:47  0:05:07   \n",
      "3        NaN  0:15:46   ...     1:19:16  1:34:45  1:50:48  2:06:47  0:05:07   \n",
      "4        NaN  0:15:46   ...     1:19:18  1:34:46  1:51:30  2:08:11  0:05:11   \n",
      "\n",
      "  Proj Time Official Time Overall Gender Division  \n",
      "0   2:12:45       2:12:45       1      1        1  \n",
      "1   2:13:32       2:13:32       2      2        2  \n",
      "2   2:14:02       2:14:02       3      3        3  \n",
      "3   2:14:05       2:14:05       4      4        4  \n",
      "4   2:15:45       2:15:45       5      5        5  \n",
      "\n",
      "[5 rows x 24 columns]\n"
     ]
    }
   ],
   "source": [
    "df_mara2016 = pd.read_csv(\"marathon_results_2016.csv\")\n",
    "print df_mara2016.head()"
   ]
  },
  {
   "cell_type": "code",
   "execution_count": 6,
   "metadata": {},
   "outputs": [
    {
     "name": "stdout",
     "output_type": "stream",
     "text": [
      "   Unnamed: 0 Bib              Name  Age M/F           City State Country  \\\n",
      "0           0  11   Kirui, Geoffrey   24   M       Keringet   NaN     KEN   \n",
      "1           1  17       Rupp, Galen   30   M       Portland    OR     USA   \n",
      "2           2  23     Osako, Suguru   25   M   Machida-City   NaN     JPN   \n",
      "3           3  21  Biwott, Shadrack   32   M  Mammoth Lakes    CA     USA   \n",
      "4           4   9    Chebet, Wilson   31   M       Marakwet   NaN     KEN   \n",
      "\n",
      "  Citizen Unnamed: 9   ...         25K      30K      35K      40K     Pace  \\\n",
      "0     NaN        NaN   ...     1:16:59  1:33:01  1:48:19  2:02:53  0:04:57   \n",
      "1     NaN        NaN   ...     1:16:59  1:33:01  1:48:19  2:03:14  0:04:58   \n",
      "2     NaN        NaN   ...     1:17:00  1:33:01  1:48:31  2:03:38  0:04:59   \n",
      "3     NaN        NaN   ...     1:17:00  1:33:01  1:48:58  2:04:35  0:05:03   \n",
      "4     NaN        NaN   ...     1:16:59  1:33:01  1:48:41  2:05:00  0:05:04   \n",
      "\n",
      "  Proj Time Official Time Overall Gender Division  \n",
      "0         -       2:09:37       1      1        1  \n",
      "1         -       2:09:58       2      2        2  \n",
      "2         -       2:10:28       3      3        3  \n",
      "3         -       2:12:08       4      4        4  \n",
      "4         -       2:12:35       5      5        5  \n",
      "\n",
      "[5 rows x 25 columns]\n"
     ]
    }
   ],
   "source": [
    "df_mara2017 = pd.read_csv(\"marathon_results_2017.csv\")\n",
    "print df_mara2017.head()"
   ]
  },
  {
   "cell_type": "code",
   "execution_count": 7,
   "metadata": {},
   "outputs": [
    {
     "data": {
      "text/plain": [
       "['Unnamed: 0',\n",
       " 'Bib',\n",
       " 'Name',\n",
       " 'Age',\n",
       " 'M/F',\n",
       " 'City',\n",
       " 'State',\n",
       " 'Country',\n",
       " 'Citizen',\n",
       " 'Unnamed: 9',\n",
       " '5K',\n",
       " '10K',\n",
       " '15K',\n",
       " '20K',\n",
       " 'Half',\n",
       " '25K',\n",
       " '30K',\n",
       " '35K',\n",
       " '40K',\n",
       " 'Pace',\n",
       " 'Proj Time',\n",
       " 'Official Time',\n",
       " 'Overall',\n",
       " 'Gender',\n",
       " 'Division']"
      ]
     },
     "execution_count": 7,
     "metadata": {},
     "output_type": "execute_result"
    }
   ],
   "source": [
    "#list column names of 2015 results\n",
    "list(df_mara2015)"
   ]
  },
  {
   "cell_type": "code",
   "execution_count": 8,
   "metadata": {},
   "outputs": [
    {
     "data": {
      "text/plain": [
       "Unnamed: 0       26598\n",
       "Bib              26598\n",
       "Name             26598\n",
       "Age              26598\n",
       "M/F              26598\n",
       "City             26598\n",
       "State            24047\n",
       "Country          26598\n",
       "Citizen           1064\n",
       "Unnamed: 9          67\n",
       "5K               26598\n",
       "10K              26598\n",
       "15K              26598\n",
       "20K              26598\n",
       "Half             26598\n",
       "25K              26598\n",
       "30K              26598\n",
       "35K              26598\n",
       "40K              26598\n",
       "Pace             26598\n",
       "Proj Time        26598\n",
       "Official Time    26598\n",
       "Overall          26598\n",
       "Gender           26598\n",
       "Division         26598\n",
       "dtype: int64"
      ]
     },
     "execution_count": 8,
     "metadata": {},
     "output_type": "execute_result"
    }
   ],
   "source": [
    "#check for missing values\n",
    "df_mara2015.count()"
   ]
  },
  {
   "cell_type": "code",
   "execution_count": 12,
   "metadata": {},
   "outputs": [
    {
     "ename": "NameError",
     "evalue": "name 'Name' is not defined",
     "output_type": "error",
     "traceback": [
      "\u001b[0;31m---------------------------------------------------------------------------\u001b[0m",
      "\u001b[0;31mNameError\u001b[0m                                 Traceback (most recent call last)",
      "\u001b[0;32m<ipython-input-12-5815cc9dfcdd>\u001b[0m in \u001b[0;36m<module>\u001b[0;34m()\u001b[0m\n\u001b[0;32m----> 1\u001b[0;31m \u001b[0mdf_mara2015\u001b[0m\u001b[0;34m[\u001b[0m\u001b[0mName\u001b[0m\u001b[0;34m]\u001b[0m\u001b[0;34m\u001b[0m\u001b[0m\n\u001b[0m",
      "\u001b[0;31mNameError\u001b[0m: name 'Name' is not defined"
     ]
    }
   ],
   "source": [
    "df_mara2015[Name]"
   ]
  },
  {
   "cell_type": "code",
   "execution_count": null,
   "metadata": {
    "collapsed": true
   },
   "outputs": [],
   "source": []
  }
 ],
 "metadata": {
  "kernelspec": {
   "display_name": "Python 2",
   "language": "python",
   "name": "python2"
  },
  "language_info": {
   "codemirror_mode": {
    "name": "ipython",
    "version": 2
   },
   "file_extension": ".py",
   "mimetype": "text/x-python",
   "name": "python",
   "nbconvert_exporter": "python",
   "pygments_lexer": "ipython2",
   "version": "2.7.13"
  }
 },
 "nbformat": 4,
 "nbformat_minor": 2
}
