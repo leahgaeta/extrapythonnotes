{
 "cells": [
  {
   "cell_type": "markdown",
   "metadata": {},
   "source": [
    "## Functions\n",
    "    with all our powers combined"
   ]
  },
  {
   "cell_type": "markdown",
   "metadata": {},
   "source": [
    "define a function that prints \"hello world\":"
   ]
  },
  {
   "cell_type": "code",
   "execution_count": 1,
   "metadata": {},
   "outputs": [],
   "source": [
    "def helloworld():\n",
    "    print('hello world')\n",
    "    return None\n",
    "#None means nothing, like a pass"
   ]
  },
  {
   "cell_type": "code",
   "execution_count": 2,
   "metadata": {},
   "outputs": [
    {
     "name": "stdout",
     "output_type": "stream",
     "text": [
      "hello world\n"
     ]
    }
   ],
   "source": [
    "helloworld()"
   ]
  },
  {
   "cell_type": "code",
   "execution_count": null,
   "metadata": {},
   "outputs": [],
   "source": []
  },
  {
   "cell_type": "markdown",
   "metadata": {},
   "source": [
    "define a function a function that takes two lists and outputs a dictionairy:"
   ]
  },
  {
   "cell_type": "code",
   "execution_count": 5,
   "metadata": {
    "collapsed": true
   },
   "outputs": [],
   "source": [
    "names = ['Alex','Kim',\"Harold\"]\n",
    "ages = [20,50,17]"
   ]
  },
  {
   "cell_type": "code",
   "execution_count": 13,
   "metadata": {},
   "outputs": [],
   "source": [
    "def list2dict(list1,list2):\n",
    "    #list1 are your keys\n",
    "    #list2 are your values\n",
    "    #output is a dictionary\n",
    "    my_dict={}\n",
    "    for i,j in zip(list1,list2):\n",
    "        my_dict[i]=j\n",
    "    return my_dict"
   ]
  },
  {
   "cell_type": "code",
   "execution_count": 14,
   "metadata": {},
   "outputs": [
    {
     "name": "stdout",
     "output_type": "stream",
     "text": [
      "{'Harold': 17, 'Alex': 20, 'Kim': 50}\n",
      "{17: 'Harold', 50: 'Kim', 20: 'Alex'}\n"
     ]
    }
   ],
   "source": [
    "print list2dict(names,ages)\n",
    "print list2dict(ages,names)"
   ]
  },
  {
   "cell_type": "markdown",
   "metadata": {},
   "source": [
    "define a function that takes the average value of a list:"
   ]
  },
  {
   "cell_type": "code",
   "execution_count": 17,
   "metadata": {},
   "outputs": [
    {
     "data": {
      "text/plain": [
       "3.0"
      ]
     },
     "execution_count": 17,
     "metadata": {},
     "output_type": "execute_result"
    }
   ],
   "source": [
    "num_list = [1,2,3,4,5]\n",
    "def average(list1):\n",
    "    sum_num = sum(list1)\n",
    "    num_of_nums = float(len(list1))\n",
    "    return sum_num/num_of_nums\n",
    "average(num_list)\n"
   ]
  },
  {
   "cell_type": "markdown",
   "metadata": {},
   "source": [
    "## Challenges\n",
    "     do on your own, get help from friends, get help from me,\n",
    "     look back at other notebooks for advice."
   ]
  },
  {
   "cell_type": "markdown",
   "metadata": {},
   "source": [
    "define a function that finds the minimum or maximum value in the_dictionary and returns the key value pair:"
   ]
  },
  {
   "cell_type": "code",
   "execution_count": null,
   "metadata": {},
   "outputs": [],
   "source": [
    "the_dictionary = {'Addidas': 1,\n",
    "                  'Nike': 2,\n",
    "                  'New Balance':3 ,\n",
    "                  'Puma': 4,\n",
    "                  'Under Armor': 5\n",
    "}\n",
    "##### Define Function Here\n",
    "\n",
    "\n",
    "##### Test function Here\n"
   ]
  },
  {
   "cell_type": "code",
   "execution_count": null,
   "metadata": {},
   "outputs": [],
   "source": []
  },
  {
   "cell_type": "code",
   "execution_count": null,
   "metadata": {},
   "outputs": [],
   "source": []
  },
  {
   "cell_type": "markdown",
   "metadata": {},
   "source": [
    "define a function that reverses the the_string and prints it out:"
   ]
  },
  {
   "cell_type": "code",
   "execution_count": 36,
   "metadata": {},
   "outputs": [
    {
     "data": {
      "text/plain": [
       "\"siht od nac uoy fi ees ot tnaw tsuj I ,revelc t'nsi siht\""
      ]
     },
     "execution_count": 36,
     "metadata": {},
     "output_type": "execute_result"
    }
   ],
   "source": [
    "the_string = \"this isn't clever, I just want to see if you can do this\"\n",
    "##### Define Function Here\n",
    "def reversed_string(the_string):\n",
    "    return the_string[::-1]\n",
    "\n",
    "##### Test function Here\n",
    "reversed_string(the_string)\n"
   ]
  },
  {
   "cell_type": "markdown",
   "metadata": {},
   "source": [
    "define a function  to find the same values in the two lists:"
   ]
  },
  {
   "cell_type": "code",
   "execution_count": null,
   "metadata": {},
   "outputs": [],
   "source": [
    "a = [1, 1, 2, 3, 5, 8, 13, 21, 34, 55, 89,11,11]\n",
    "b = [1, 2, 3, 4, 5, 6, 7, 8, 9, 10, 11, 12, 13]\n",
    "\n",
    "##### Define Function Here\n",
    "def same_value(list1,list2):\n",
    "    \n",
    "\n",
    "##### Test function Here\n",
    "\n"
   ]
  },
  {
   "cell_type": "markdown",
   "metadata": {},
   "source": [
    "define a function to find the age of people born in a list of birth years:"
   ]
  },
  {
   "cell_type": "code",
   "execution_count": 37,
   "metadata": {},
   "outputs": [
    {
     "ename": "SyntaxError",
     "evalue": "invalid syntax (<ipython-input-37-cbdd25b48db4>, line 5)",
     "output_type": "error",
     "traceback": [
      "\u001b[0;36m  File \u001b[0;32m\"<ipython-input-37-cbdd25b48db4>\"\u001b[0;36m, line \u001b[0;32m5\u001b[0m\n\u001b[0;31m    for x in (new_list)\u001b[0m\n\u001b[0m                       ^\u001b[0m\n\u001b[0;31mSyntaxError\u001b[0m\u001b[0;31m:\u001b[0m invalid syntax\n"
     ]
    }
   ],
   "source": [
    "birth_years = [1990,1952,1725,1886,1942,1998,2005,1999]\n",
    "\n",
    "##### Define Function Here\n",
    "def current_age(list):\n",
    "    for x in (new_list)\n",
    "    new_list.append(2017-x)\n",
    "print current_age\n",
    "\n",
    "##### Test function Here\n",
    "\n",
    "\n",
    "\n",
    "\n"
   ]
  },
  {
   "cell_type": "markdown",
   "metadata": {},
   "source": [
    "Define a function that outputs the 'n_th' fibonnaci number. The fibonnaci sequence starts like this: 1,1,2,3,5,8,13:"
   ]
  },
  {
   "cell_type": "code",
   "execution_count": null,
   "metadata": {
    "collapsed": true
   },
   "outputs": [],
   "source": [
    "##### Define Function Here\n",
    "\n",
    "\n",
    "\n",
    "##### Test function Here\n"
   ]
  }
 ],
 "metadata": {
  "kernelspec": {
   "display_name": "Python 2",
   "language": "python",
   "name": "python2"
  },
  "language_info": {
   "codemirror_mode": {
    "name": "ipython",
    "version": 2
   },
   "file_extension": ".py",
   "mimetype": "text/x-python",
   "name": "python",
   "nbconvert_exporter": "python",
   "pygments_lexer": "ipython2",
   "version": "2.7.13"
  }
 },
 "nbformat": 4,
 "nbformat_minor": 2
}
